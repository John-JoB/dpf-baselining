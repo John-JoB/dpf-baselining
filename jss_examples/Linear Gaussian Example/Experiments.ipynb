{
 "cells": [
  {
   "metadata": {},
   "cell_type": "markdown",
   "source": "## Imports",
   "id": "a8b31809adc13e3b"
  },
  {
   "cell_type": "code",
   "id": "initial_id",
   "metadata": {
    "collapsed": true,
    "ExecuteTime": {
     "end_time": "2025-04-04T10:35:41.181950Z",
     "start_time": "2025-04-04T10:35:41.176344Z"
    }
   },
   "source": [
    "import torch\n",
    "import pydpf\n",
    "import bootstrap_model\n",
    "import pathlib"
   ],
   "outputs": [],
   "execution_count": 7
  },
  {
   "metadata": {},
   "cell_type": "markdown",
   "source": "## Set options",
   "id": "5b50befd76e8b369"
  },
  {
   "metadata": {
    "ExecuteTime": {
     "end_time": "2025-04-04T10:35:41.947549Z",
     "start_time": "2025-04-04T10:35:41.936993Z"
    }
   },
   "cell_type": "code",
   "source": [
    "dx = 25\n",
    "dy = 10\n",
    "device = torch.device(\"cuda\" if torch.cuda.is_available() else \"cpu\")\n",
    "data_path = pathlib.Path('.').parent.absolute().joinpath('data.csv') "
   ],
   "id": "7c681f2f7a479bdd",
   "outputs": [
    {
     "name": "stdout",
     "output_type": "stream",
     "text": [
      "C:\\Users\\k24113585\\PycharmProjects\\dpf-baselining\\jss_examples\\Linear Gaussian Example\\data.csv\n"
     ]
    }
   ],
   "execution_count": 8
  },
  {
   "metadata": {},
   "cell_type": "markdown",
   "source": "## Generate Data",
   "id": "ec8c4d490c9c709"
  },
  {
   "metadata": {
    "ExecuteTime": {
     "end_time": "2025-04-04T10:36:16.450510Z",
     "start_time": "2025-04-04T10:35:43.581985Z"
    }
   },
   "cell_type": "code",
   "source": [
    "SSM = bootstrap_model.make_SSM(dx, dy, device)\n",
    "pydpf.simulate_and_save(data_path, SSM=SSM, time_extent=1000, n_trajectories=2000, batch_size=100, device=device)"
   ],
   "id": "7ebebb09c12b6935",
   "outputs": [
    {
     "name": "stdout",
     "output_type": "stream",
     "text": [
      "Warning - file already exists at C:\\Users\\k24113585\\PycharmProjects\\dpf-baselining\\jss_examples\\Linear Gaussian Example\\data.csv, continuing could overwrite its data\n",
      "Done                  \n",
      "\n"
     ]
    }
   ],
   "execution_count": 9
  },
  {
   "metadata": {},
   "cell_type": "markdown",
   "source": "## Create Dataset",
   "id": "1d5f805c103d2f34"
  },
  {
   "metadata": {
    "ExecuteTime": {
     "end_time": "2025-04-04T10:37:56.223036Z",
     "start_time": "2025-04-04T10:37:54.349260Z"
    }
   },
   "cell_type": "code",
   "source": [
    "dataset = pydpf.StateSpaceDataset(data_path=data_path, \n",
    "                        series_id_column='series_id', \n",
    "                        state_prefix='state', \n",
    "                        observation_prefix='observation', \n",
    "                        device=device)\n",
    "data_loader = torch.utils.data.DataLoader(dataset, batch_size=100, shuffle=True, collate_fn=dataset.collate)"
   ],
   "id": "50358b9f5e2b14bd",
   "outputs": [],
   "execution_count": 11
  },
  {
   "metadata": {},
   "cell_type": "markdown",
   "source": "## Define a particle filter with multinomial resampling",
   "id": "828807481537a4df"
  },
  {
   "metadata": {
    "ExecuteTime": {
     "end_time": "2025-04-04T10:45:22.011246Z",
     "start_time": "2025-04-04T10:45:22.002604Z"
    }
   },
   "cell_type": "code",
   "source": [
    "multinomial_resampler = pydpf.MultinomialResampler(torch.Generator(device=device))\n",
    "PF = pydpf.ParticleFilter(resampler=multinomial_resampler, SSM=SSM)"
   ],
   "id": "6c3c7df02d78e164",
   "outputs": [
    {
     "ename": "TypeError",
     "evalue": "MultinomialResampler.__init__() missing 1 required positional argument: 'generator'",
     "output_type": "error",
     "traceback": [
      "\u001B[1;31m---------------------------------------------------------------------------\u001B[0m",
      "\u001B[1;31mTypeError\u001B[0m                                 Traceback (most recent call last)",
      "Cell \u001B[1;32mIn[20], line 1\u001B[0m\n\u001B[1;32m----> 1\u001B[0m PF \u001B[38;5;241m=\u001B[39m pydpf\u001B[38;5;241m.\u001B[39mParticleFilter(resampler\u001B[38;5;241m=\u001B[39mpydpf\u001B[38;5;241m.\u001B[39mMultinomialResampler(), SSM\u001B[38;5;241m=\u001B[39mSSM)\n",
      "\u001B[1;31mTypeError\u001B[0m: MultinomialResampler.__init__() missing 1 required positional argument: 'generator'"
     ]
    }
   ],
   "execution_count": 20
  },
  {
   "metadata": {},
   "cell_type": "markdown",
   "source": "## Run particle Filter",
   "id": "d67f06dee8cb438b"
  },
  {
   "metadata": {
    "ExecuteTime": {
     "end_time": "2025-04-04T10:44:18.070851Z",
     "start_time": "2025-04-04T10:44:07.305170Z"
    }
   },
   "cell_type": "code",
   "source": [
    "aggregation_function = pydpf.FilteringMean()\n",
    "for state, observation in data_loader:\n",
    "    estimated_state = PF(observation=observation, n_particles=1000, aggregation_function=aggregation_function, time_extent=1000)"
   ],
   "id": "747165e39a2c6361",
   "outputs": [
    {
     "name": "stdout",
     "output_type": "stream",
     "text": [
      "tensor([[-6.8770e-01,  1.0152e+00,  3.9009e-01,  ...,  1.3003e-01,\n",
      "          3.6376e-02,  3.2040e-02],\n",
      "        [-1.1558e+00,  5.7689e-01,  1.4709e+00,  ...,  3.4972e-01,\n",
      "          4.3954e-01,  1.9440e-01],\n",
      "        [-6.5087e-01,  5.2488e-01,  4.4651e-01,  ...,  3.0194e-01,\n",
      "          4.7781e-04,  5.9771e-01],\n",
      "        ...,\n",
      "        [ 3.3527e+04,  5.2536e+04,  7.0856e+04,  ...,  7.0857e+04,\n",
      "          5.2538e+04,  3.3531e+04],\n",
      "        [ 3.3921e+04,  5.3152e+04,  7.1687e+04,  ...,  7.1688e+04,\n",
      "          5.3154e+04,  3.3923e+04],\n",
      "        [ 3.4320e+04,  5.3774e+04,  7.2526e+04,  ...,  7.2529e+04,\n",
      "          5.3777e+04,  3.4320e+04]], device='cuda:0')\n",
      "tensor([[-6.9703e-01,  5.8370e-01,  2.7945e-01,  ...,  1.6620e-01,\n",
      "          3.5275e-01, -8.1333e-02],\n",
      "        [-2.2453e-01, -1.5871e-01,  7.7245e-01,  ...,  2.8684e-01,\n",
      "         -5.1766e-01,  3.1352e-01],\n",
      "        [ 5.5671e-01, -1.4454e-01, -3.4183e-01,  ...,  5.8264e-02,\n",
      "         -1.9633e-01, -5.8449e-02],\n",
      "        ...,\n",
      "        [-6.7516e+02, -1.0572e+03, -1.4248e+03,  ..., -1.4231e+03,\n",
      "         -1.0549e+03, -6.7349e+02],\n",
      "        [-6.8198e+02, -1.0709e+03, -1.4409e+03,  ..., -1.4395e+03,\n",
      "         -1.0685e+03, -6.8191e+02],\n",
      "        [-6.8937e+02, -1.0806e+03, -1.4572e+03,  ..., -1.4563e+03,\n",
      "         -1.0810e+03, -6.8949e+02]], device='cuda:0')\n",
      "tensor([[-2.2833e-02, -8.1911e-01, -1.2413e+00,  ..., -2.1301e-02,\n",
      "         -3.9653e-01,  4.6866e-02],\n",
      "        [-1.6191e-02,  5.5761e-01, -4.0911e-01,  ..., -1.2813e-01,\n",
      "         -5.9295e-01, -1.9610e+00],\n",
      "        [-5.0972e-01,  2.1189e-01,  2.5858e-01,  ..., -5.2037e-01,\n",
      "         -1.1112e+00, -1.1461e+00],\n",
      "        ...,\n",
      "        [-2.3695e+04, -3.7129e+04, -5.0075e+04,  ..., -5.0077e+04,\n",
      "         -3.7130e+04, -2.3696e+04],\n",
      "        [-2.3974e+04, -3.7563e+04, -5.0662e+04,  ..., -5.0664e+04,\n",
      "         -3.7564e+04, -2.3974e+04],\n",
      "        [-2.4256e+04, -3.8003e+04, -5.1257e+04,  ..., -5.1259e+04,\n",
      "         -3.8005e+04, -2.4255e+04]], device='cuda:0')\n",
      "tensor([[-2.9936e-01,  1.3175e+00, -1.1277e+00,  ...,  2.6628e-01,\n",
      "         -3.7654e-01,  3.8026e-01],\n",
      "        [ 5.4931e-01, -8.7582e-01, -3.5517e-01,  ...,  1.0649e-01,\n",
      "         -4.7283e-02,  7.4499e-02],\n",
      "        [ 4.3861e-01, -7.3182e-01,  2.8021e-01,  ..., -1.4843e-01,\n",
      "         -4.0974e-01, -3.6488e-01],\n",
      "        ...,\n",
      "        [ 3.5712e+04,  5.5956e+04,  7.5468e+04,  ...,  7.5468e+04,\n",
      "          5.5956e+04,  3.5711e+04],\n",
      "        [ 3.6130e+04,  5.6614e+04,  7.6353e+04,  ...,  7.6354e+04,\n",
      "          5.6613e+04,  3.6130e+04],\n",
      "        [ 3.6554e+04,  5.7277e+04,  7.7248e+04,  ...,  7.7249e+04,\n",
      "          5.7277e+04,  3.6554e+04]], device='cuda:0')\n",
      "tensor([[-8.2671e-01,  2.4980e-01,  2.4835e-01,  ...,  3.7732e-01,\n",
      "         -7.3759e-02,  1.3572e-01],\n",
      "        [ 4.0203e-01,  1.0659e-01,  1.4566e+00,  ..., -7.1353e-02,\n",
      "          6.4056e-03, -5.7651e-02],\n",
      "        [ 5.3211e-01, -1.1929e+00,  6.3431e-01,  ..., -8.7739e-01,\n",
      "         -5.8873e-01, -3.7691e-01],\n",
      "        ...,\n",
      "        [-3.3453e+04, -5.2416e+04, -7.0694e+04,  ..., -7.0693e+04,\n",
      "         -5.2416e+04, -3.3452e+04],\n",
      "        [-3.3845e+04, -5.3032e+04, -7.1524e+04,  ..., -7.1523e+04,\n",
      "         -5.3031e+04, -3.3845e+04],\n",
      "        [-3.4242e+04, -5.3655e+04, -7.2362e+04,  ..., -7.2362e+04,\n",
      "         -5.3653e+04, -3.4242e+04]], device='cuda:0')\n",
      "tensor([[-1.7674e-01, -7.1266e-01,  9.3127e-01,  ...,  5.2337e-01,\n",
      "         -4.4586e-01, -7.0919e-01],\n",
      "        [ 6.3204e-01, -5.5433e-03,  5.7342e-01,  ...,  4.6110e-02,\n",
      "         -6.4004e-02, -1.6300e-01],\n",
      "        [ 1.5589e+00,  1.0825e-01,  9.7487e-01,  ..., -9.8369e-02,\n",
      "          2.8888e-01, -5.7466e-01],\n",
      "        ...,\n",
      "        [-1.2375e+04, -1.9392e+04, -2.6153e+04,  ..., -2.6155e+04,\n",
      "         -1.9393e+04, -1.2377e+04],\n",
      "        [-1.2521e+04, -1.9619e+04, -2.6459e+04,  ..., -2.6462e+04,\n",
      "         -1.9621e+04, -1.2522e+04],\n",
      "        [-1.2667e+04, -1.9849e+04, -2.6770e+04,  ..., -2.6772e+04,\n",
      "         -1.9850e+04, -1.2669e+04]], device='cuda:0')\n",
      "tensor([[ 2.8345e-01, -5.0127e-01, -6.5134e-01,  ..., -2.8070e-01,\n",
      "         -5.9948e-02, -7.7227e-03],\n",
      "        [ 9.6265e-01, -4.7672e-01, -1.0784e+00,  ..., -4.4856e-01,\n",
      "          2.9553e-01, -5.1505e-01],\n",
      "        [ 8.2867e-01,  3.3632e-01, -9.1159e-01,  ..., -3.0689e-01,\n",
      "         -2.1181e-01, -1.2178e-01],\n",
      "        ...,\n",
      "        [ 1.6670e+04,  2.6119e+04,  3.5228e+04,  ...,  3.5228e+04,\n",
      "          2.6119e+04,  1.6670e+04],\n",
      "        [ 1.6865e+04,  2.6425e+04,  3.5641e+04,  ...,  3.5641e+04,\n",
      "          2.6426e+04,  1.6865e+04],\n",
      "        [ 1.7063e+04,  2.6736e+04,  3.6059e+04,  ...,  3.6060e+04,\n",
      "          2.6736e+04,  1.7063e+04]], device='cuda:0')\n",
      "tensor([[-9.7405e-01,  1.0760e+00,  1.4570e-01,  ..., -2.0139e-01,\n",
      "         -1.0745e-01, -6.5479e-02],\n",
      "        [-1.0122e-01,  6.9312e-02,  2.1299e-01,  ..., -2.8409e-01,\n",
      "         -5.7895e-01,  6.5349e-02],\n",
      "        [-2.7591e-01,  3.3113e-01, -1.1926e-01,  ..., -2.2083e-01,\n",
      "         -8.6662e-02,  4.4758e-02],\n",
      "        ...,\n",
      "        [ 4.6593e+03,  7.3005e+03,  9.8440e+03,  ...,  9.8447e+03,\n",
      "          7.2991e+03,  4.6578e+03],\n",
      "        [ 4.7125e+03,  7.3857e+03,  9.9604e+03,  ...,  9.9598e+03,\n",
      "          7.3842e+03,  4.7126e+03],\n",
      "        [ 4.7701e+03,  7.4731e+03,  1.0079e+04,  ...,  1.0076e+04,\n",
      "          7.4710e+03,  4.7679e+03]], device='cuda:0')\n",
      "tensor([[-1.2650e+00,  4.3662e-01, -6.4106e-01,  ...,  4.8902e-02,\n",
      "         -8.3191e-02,  1.9297e-01],\n",
      "        [-7.0389e-01, -1.5678e+00, -2.6314e-01,  ...,  2.7099e-01,\n",
      "         -6.7217e-02, -4.1803e-02],\n",
      "        [-5.8333e-01, -1.1629e+00, -1.3738e-01,  ..., -2.1508e-01,\n",
      "          4.5616e-01, -3.1849e-01],\n",
      "        ...,\n",
      "        [ 3.9887e+04,  6.2498e+04,  8.4291e+04,  ...,  8.4293e+04,\n",
      "          6.2499e+04,  3.9886e+04],\n",
      "        [ 4.0355e+04,  6.3231e+04,  8.5281e+04,  ...,  8.5281e+04,\n",
      "          6.3232e+04,  4.0355e+04],\n",
      "        [ 4.0829e+04,  6.3973e+04,  8.6281e+04,  ...,  8.6282e+04,\n",
      "          6.3974e+04,  4.0829e+04]], device='cuda:0')\n",
      "tensor([[-2.1065e-02,  9.9667e-01,  8.8073e-01,  ..., -1.0171e+00,\n",
      "          4.4235e-01, -3.7038e-02],\n",
      "        [-8.6197e-02,  5.5642e-01,  2.6024e-01,  ..., -6.6314e-01,\n",
      "          7.4025e-02, -1.6809e-02],\n",
      "        [-5.5341e-01,  1.3378e+00,  6.8955e-02,  ..., -6.2940e-01,\n",
      "         -1.4521e+00,  6.9767e-02],\n",
      "        ...,\n",
      "        [-3.2280e+04, -5.0581e+04, -6.8218e+04,  ..., -6.8220e+04,\n",
      "         -5.0582e+04, -3.2281e+04],\n",
      "        [-3.2659e+04, -5.1174e+04, -6.9018e+04,  ..., -6.9020e+04,\n",
      "         -5.1176e+04, -3.2660e+04],\n",
      "        [-3.3042e+04, -5.1774e+04, -6.9828e+04,  ..., -6.9830e+04,\n",
      "         -5.1776e+04, -3.3043e+04]], device='cuda:0')\n",
      "tensor([[ 1.0371e-01, -9.4563e-01,  5.2797e-01,  ..., -2.0895e-01,\n",
      "         -2.9341e-01,  1.3533e-01],\n",
      "        [-2.3226e-01,  8.4778e-02,  1.5219e+00,  ..., -1.2945e+00,\n",
      "          3.2990e-01,  1.3887e-01],\n",
      "        [ 7.0805e-01,  7.0326e-01,  2.0531e+00,  ..., -2.6887e-01,\n",
      "          2.2744e-01,  3.4579e-01],\n",
      "        ...,\n",
      "        [ 1.3018e+04,  2.0398e+04,  2.7513e+04,  ...,  2.7514e+04,\n",
      "          2.0400e+04,  1.3020e+04],\n",
      "        [ 1.3173e+04,  2.0638e+04,  2.7836e+04,  ...,  2.7837e+04,\n",
      "          2.0640e+04,  1.3173e+04],\n",
      "        [ 1.3328e+04,  2.0881e+04,  2.8163e+04,  ...,  2.8163e+04,\n",
      "          2.0882e+04,  1.3327e+04]], device='cuda:0')\n",
      "tensor([[ 1.0966e+00, -1.6716e-01, -4.3929e-04,  ...,  2.4317e-01,\n",
      "         -2.2213e-02, -2.8664e-01],\n",
      "        [-3.8126e-01, -7.0958e-01,  6.4942e-01,  ..., -3.9616e-01,\n",
      "         -5.5904e-01,  9.6987e-02],\n",
      "        [ 4.7761e-01,  4.0012e-01, -4.4175e-01,  ..., -8.1227e-01,\n",
      "          1.6129e-02,  2.8599e-01],\n",
      "        ...,\n",
      "        [-3.8421e+04, -6.0204e+04, -8.1197e+04,  ..., -8.1200e+04,\n",
      "         -6.0207e+04, -3.8424e+04],\n",
      "        [-3.8872e+04, -6.0910e+04, -8.2149e+04,  ..., -8.2153e+04,\n",
      "         -6.0913e+04, -3.8875e+04],\n",
      "        [-3.9328e+04, -6.1625e+04, -8.3113e+04,  ..., -8.3117e+04,\n",
      "         -6.1627e+04, -3.9330e+04]], device='cuda:0')\n",
      "tensor([[-1.1493e+00,  3.0045e-01, -1.3562e+00,  ...,  2.4894e-02,\n",
      "          1.6975e-01,  2.6197e-01],\n",
      "        [-6.9776e-01, -1.0804e+00,  5.8290e-01,  ...,  2.1817e-01,\n",
      "          2.2978e-02, -4.2458e-01],\n",
      "        [-3.0414e-01,  1.1004e+00,  1.2769e-01,  ..., -2.6893e-01,\n",
      "         -2.7561e-01, -4.8662e-01],\n",
      "        ...,\n",
      "        [ 2.9319e+03,  4.5917e+03,  6.1926e+03,  ...,  6.1917e+03,\n",
      "          4.5909e+03,  2.9296e+03],\n",
      "        [ 2.9661e+03,  4.6458e+03,  6.2672e+03,  ...,  6.2640e+03,\n",
      "          4.6439e+03,  2.9642e+03],\n",
      "        [ 3.0001e+03,  4.7005e+03,  6.3401e+03,  ...,  6.3378e+03,\n",
      "          4.6990e+03,  2.9989e+03]], device='cuda:0')\n",
      "tensor([[ 5.6507e-01,  5.2331e-01,  7.9857e-01,  ...,  3.6126e-02,\n",
      "          2.3016e-01, -6.3065e-02],\n",
      "        [ 8.0161e-01,  9.7243e-01,  5.9894e-01,  ...,  3.7349e-02,\n",
      "          8.2514e-03,  1.6112e-02],\n",
      "        [-7.5328e-01,  3.0014e-01,  6.2551e-01,  ...,  2.7752e-01,\n",
      "         -2.0200e+00, -3.0355e-01],\n",
      "        ...,\n",
      "        [-2.4796e+04, -3.8853e+04, -5.2401e+04,  ..., -5.2401e+04,\n",
      "         -3.8853e+04, -2.4796e+04],\n",
      "        [-2.5086e+04, -3.9308e+04, -5.3015e+04,  ..., -5.3016e+04,\n",
      "         -3.9308e+04, -2.5087e+04],\n",
      "        [-2.5382e+04, -3.9769e+04, -5.3637e+04,  ..., -5.3637e+04,\n",
      "         -3.9769e+04, -2.5382e+04]], device='cuda:0')\n",
      "tensor([[-3.5785e-01, -5.9034e-01, -3.3110e-01,  ...,  1.0426e-01,\n",
      "          1.3606e-02,  7.1815e-02],\n",
      "        [-3.6250e-01,  6.8970e-02, -8.1614e-01,  ..., -8.5731e-04,\n",
      "          1.4671e-01, -7.1967e-02],\n",
      "        [-1.0308e+00, -6.3459e-01, -9.4061e-01,  ..., -8.9592e-01,\n",
      "         -7.7579e-01, -1.6395e-01],\n",
      "        ...,\n",
      "        [-3.3568e+04, -5.2598e+04, -7.0939e+04,  ..., -7.0940e+04,\n",
      "         -5.2600e+04, -3.3569e+04],\n",
      "        [-3.3961e+04, -5.3214e+04, -7.1772e+04,  ..., -7.1772e+04,\n",
      "         -5.3217e+04, -3.3963e+04],\n",
      "        [-3.4361e+04, -5.3840e+04, -7.2614e+04,  ..., -7.2614e+04,\n",
      "         -5.3841e+04, -3.4361e+04]], device='cuda:0')\n",
      "tensor([[-8.4270e-01,  5.7180e-01,  1.2770e+00,  ...,  2.1087e-01,\n",
      "          3.2058e-01, -3.8888e-01],\n",
      "        [-9.3688e-01, -1.4033e-02,  3.6350e-01,  ...,  7.2622e-02,\n",
      "          3.3550e-01, -5.1610e-01],\n",
      "        [ 1.4112e+00,  7.2619e-01, -8.5478e-01,  ...,  8.0444e-01,\n",
      "          9.6984e-01, -5.2419e-01],\n",
      "        ...,\n",
      "        [-1.0837e+03, -1.6974e+03, -2.2889e+03,  ..., -2.2932e+03,\n",
      "         -1.7001e+03, -1.0852e+03],\n",
      "        [-1.0950e+03, -1.7162e+03, -2.3180e+03,  ..., -2.3192e+03,\n",
      "         -1.7206e+03, -1.0981e+03],\n",
      "        [-1.1078e+03, -1.7361e+03, -2.3446e+03,  ..., -2.3470e+03,\n",
      "         -1.7403e+03, -1.1105e+03]], device='cuda:0')\n",
      "tensor([[-1.2268e+00, -6.5232e-03, -6.9859e-01,  ..., -2.4786e-01,\n",
      "         -1.8229e-01,  1.3566e-01],\n",
      "        [-2.8180e-01, -1.0543e+00, -3.1277e-01,  ..., -1.3083e-01,\n",
      "         -1.3026e-01, -9.9235e-02],\n",
      "        [-1.1381e+00, -1.2526e+00, -1.4930e+00,  ...,  1.4274e+00,\n",
      "         -1.1713e+00, -2.1816e-01],\n",
      "        ...,\n",
      "        [ 2.7302e+04,  4.2778e+04,  5.7695e+04,  ...,  5.7697e+04,\n",
      "          4.2779e+04,  2.7302e+04],\n",
      "        [ 2.7622e+04,  4.3280e+04,  5.8372e+04,  ...,  5.8375e+04,\n",
      "          4.3283e+04,  2.7624e+04],\n",
      "        [ 2.7947e+04,  4.3788e+04,  5.9057e+04,  ...,  5.9059e+04,\n",
      "          4.3790e+04,  2.7947e+04]], device='cuda:0')\n"
     ]
    },
    {
     "ename": "KeyboardInterrupt",
     "evalue": "",
     "output_type": "error",
     "traceback": [
      "\u001B[1;31m---------------------------------------------------------------------------\u001B[0m",
      "\u001B[1;31mKeyboardInterrupt\u001B[0m                         Traceback (most recent call last)",
      "Cell \u001B[1;32mIn[19], line 2\u001B[0m\n\u001B[0;32m      1\u001B[0m \u001B[38;5;28;01mfor\u001B[39;00m state, observation \u001B[38;5;129;01min\u001B[39;00m data_loader:\n\u001B[1;32m----> 2\u001B[0m     estimated_state \u001B[38;5;241m=\u001B[39m PF(observation\u001B[38;5;241m=\u001B[39mobservation, n_particles\u001B[38;5;241m=\u001B[39m\u001B[38;5;241m1000\u001B[39m, aggregation_function\u001B[38;5;241m=\u001B[39mpydpf\u001B[38;5;241m.\u001B[39mFilteringMean(), time_extent\u001B[38;5;241m=\u001B[39m\u001B[38;5;241m1000\u001B[39m)\n\u001B[0;32m      3\u001B[0m     \u001B[38;5;28mprint\u001B[39m(estimated_state[:,\u001B[38;5;241m0\u001B[39m])\n",
      "File \u001B[1;32m~\\AppData\\Local\\anaconda3\\Lib\\site-packages\\torch\\nn\\modules\\module.py:1736\u001B[0m, in \u001B[0;36mModule._wrapped_call_impl\u001B[1;34m(self, *args, **kwargs)\u001B[0m\n\u001B[0;32m   1734\u001B[0m     \u001B[38;5;28;01mreturn\u001B[39;00m \u001B[38;5;28mself\u001B[39m\u001B[38;5;241m.\u001B[39m_compiled_call_impl(\u001B[38;5;241m*\u001B[39margs, \u001B[38;5;241m*\u001B[39m\u001B[38;5;241m*\u001B[39mkwargs)  \u001B[38;5;66;03m# type: ignore[misc]\u001B[39;00m\n\u001B[0;32m   1735\u001B[0m \u001B[38;5;28;01melse\u001B[39;00m:\n\u001B[1;32m-> 1736\u001B[0m     \u001B[38;5;28;01mreturn\u001B[39;00m \u001B[38;5;28mself\u001B[39m\u001B[38;5;241m.\u001B[39m_call_impl(\u001B[38;5;241m*\u001B[39margs, \u001B[38;5;241m*\u001B[39m\u001B[38;5;241m*\u001B[39mkwargs)\n",
      "File \u001B[1;32m~\\AppData\\Local\\anaconda3\\Lib\\site-packages\\torch\\nn\\modules\\module.py:1747\u001B[0m, in \u001B[0;36mModule._call_impl\u001B[1;34m(self, *args, **kwargs)\u001B[0m\n\u001B[0;32m   1742\u001B[0m \u001B[38;5;66;03m# If we don't have any hooks, we want to skip the rest of the logic in\u001B[39;00m\n\u001B[0;32m   1743\u001B[0m \u001B[38;5;66;03m# this function, and just call forward.\u001B[39;00m\n\u001B[0;32m   1744\u001B[0m \u001B[38;5;28;01mif\u001B[39;00m \u001B[38;5;129;01mnot\u001B[39;00m (\u001B[38;5;28mself\u001B[39m\u001B[38;5;241m.\u001B[39m_backward_hooks \u001B[38;5;129;01mor\u001B[39;00m \u001B[38;5;28mself\u001B[39m\u001B[38;5;241m.\u001B[39m_backward_pre_hooks \u001B[38;5;129;01mor\u001B[39;00m \u001B[38;5;28mself\u001B[39m\u001B[38;5;241m.\u001B[39m_forward_hooks \u001B[38;5;129;01mor\u001B[39;00m \u001B[38;5;28mself\u001B[39m\u001B[38;5;241m.\u001B[39m_forward_pre_hooks\n\u001B[0;32m   1745\u001B[0m         \u001B[38;5;129;01mor\u001B[39;00m _global_backward_pre_hooks \u001B[38;5;129;01mor\u001B[39;00m _global_backward_hooks\n\u001B[0;32m   1746\u001B[0m         \u001B[38;5;129;01mor\u001B[39;00m _global_forward_hooks \u001B[38;5;129;01mor\u001B[39;00m _global_forward_pre_hooks):\n\u001B[1;32m-> 1747\u001B[0m     \u001B[38;5;28;01mreturn\u001B[39;00m forward_call(\u001B[38;5;241m*\u001B[39margs, \u001B[38;5;241m*\u001B[39m\u001B[38;5;241m*\u001B[39mkwargs)\n\u001B[0;32m   1749\u001B[0m result \u001B[38;5;241m=\u001B[39m \u001B[38;5;28;01mNone\u001B[39;00m\n\u001B[0;32m   1750\u001B[0m called_always_called_hooks \u001B[38;5;241m=\u001B[39m \u001B[38;5;28mset\u001B[39m()\n",
      "File \u001B[1;32m~\\PycharmProjects\\dpf-baselining\\pydpf\\filtering.py:157\u001B[0m, in \u001B[0;36mSIS.forward\u001B[1;34m(self, n_particles, time_extent, aggregation_function, observation, gradient_regulariser, ground_truth, control, time, series_metadata)\u001B[0m\n\u001B[0;32m    155\u001B[0m prev_state \u001B[38;5;241m=\u001B[39m state\n\u001B[0;32m    156\u001B[0m prev_weight \u001B[38;5;241m=\u001B[39m weight\n\u001B[1;32m--> 157\u001B[0m state, weight, likelihood \u001B[38;5;241m=\u001B[39m \u001B[38;5;28mself\u001B[39m\u001B[38;5;241m.\u001B[39mproposal(prev_state \u001B[38;5;241m=\u001B[39m state, prev_weight \u001B[38;5;241m=\u001B[39m weight, \u001B[38;5;241m*\u001B[39m\u001B[38;5;241m*\u001B[39mtime_data)\n\u001B[0;32m    158\u001B[0m likelihood \u001B[38;5;241m=\u001B[39m likelihood \u001B[38;5;241m-\u001B[39m log_N\n\u001B[0;32m    159\u001B[0m \u001B[38;5;28;01mif\u001B[39;00m \u001B[38;5;129;01mnot\u001B[39;00m gradient_regulariser \u001B[38;5;129;01mis\u001B[39;00m \u001B[38;5;28;01mNone\u001B[39;00m:\n",
      "File \u001B[1;32m~\\PycharmProjects\\dpf-baselining\\pydpf\\filtering.py:293\u001B[0m, in \u001B[0;36mParticleFilter._register_functions.<locals>.pf_sampler\u001B[1;34m(prev_state, prev_weight, **data)\u001B[0m\n\u001B[0;32m    291\u001B[0m \u001B[38;5;28;01mdef\u001B[39;00m \u001B[38;5;21mpf_sampler\u001B[39m(prev_state, prev_weight, \u001B[38;5;241m*\u001B[39m\u001B[38;5;241m*\u001B[39mdata):\n\u001B[0;32m    292\u001B[0m     resampled_x, resampled_w \u001B[38;5;241m=\u001B[39m \u001B[38;5;28mself\u001B[39m\u001B[38;5;241m.\u001B[39mresampler(prev_state, prev_weight, \u001B[38;5;241m*\u001B[39m\u001B[38;5;241m*\u001B[39mdata)\n\u001B[1;32m--> 293\u001B[0m     state, weight \u001B[38;5;241m=\u001B[39m prop(prev_state\u001B[38;5;241m=\u001B[39mresampled_x, prev_weight\u001B[38;5;241m=\u001B[39mresampled_w, \u001B[38;5;241m*\u001B[39m\u001B[38;5;241m*\u001B[39mdata)\n\u001B[0;32m    294\u001B[0m     \u001B[38;5;28;01mtry\u001B[39;00m:\n\u001B[0;32m    295\u001B[0m         weight, likelihood \u001B[38;5;241m=\u001B[39m normalise(weight)\n",
      "File \u001B[1;32m~\\PycharmProjects\\dpf-baselining\\pydpf\\filtering.py:256\u001B[0m, in \u001B[0;36mParticleFilter._register_functions.<locals>.prop\u001B[1;34m(prev_state, prev_weight, observation, **data)\u001B[0m\n\u001B[0;32m    255\u001B[0m \u001B[38;5;28;01mdef\u001B[39;00m \u001B[38;5;21mprop\u001B[39m(prev_state, prev_weight, observation, \u001B[38;5;241m*\u001B[39m\u001B[38;5;241m*\u001B[39mdata):\n\u001B[1;32m--> 256\u001B[0m     new_state \u001B[38;5;241m=\u001B[39m \u001B[38;5;28mself\u001B[39m\u001B[38;5;241m.\u001B[39mSSM\u001B[38;5;241m.\u001B[39mdynamic_model\u001B[38;5;241m.\u001B[39msample(prev_state \u001B[38;5;241m=\u001B[39m prev_state, \u001B[38;5;241m*\u001B[39m\u001B[38;5;241m*\u001B[39mdata)\n\u001B[0;32m    257\u001B[0m     new_weight \u001B[38;5;241m=\u001B[39m prev_weight \u001B[38;5;241m+\u001B[39m \u001B[38;5;28mself\u001B[39m\u001B[38;5;241m.\u001B[39mSSM\u001B[38;5;241m.\u001B[39mobservation_model\u001B[38;5;241m.\u001B[39mscore(new_state, observation \u001B[38;5;241m=\u001B[39m observation, \u001B[38;5;241m*\u001B[39m\u001B[38;5;241m*\u001B[39mdata)\n\u001B[0;32m    258\u001B[0m     \u001B[38;5;28;01mreturn\u001B[39;00m new_state, new_weight\n",
      "File \u001B[1;32m~\\PycharmProjects\\dpf-baselining\\pydpf\\model_based_api.py:26\u001B[0m, in \u001B[0;36mdyn_from_model.sample\u001B[1;34m(self, prev_state, **data)\u001B[0m\n\u001B[0;32m     25\u001B[0m \u001B[38;5;28;01mdef\u001B[39;00m \u001B[38;5;21msample\u001B[39m(\u001B[38;5;28mself\u001B[39m, prev_state:Tensor, \u001B[38;5;241m*\u001B[39m\u001B[38;5;241m*\u001B[39mdata) \u001B[38;5;241m-\u001B[39m\u001B[38;5;241m>\u001B[39m Tensor:\n\u001B[1;32m---> 26\u001B[0m     \u001B[38;5;28;01mreturn\u001B[39;00m \u001B[38;5;28mself\u001B[39m\u001B[38;5;241m.\u001B[39mdist\u001B[38;5;241m.\u001B[39msample(condition_on\u001B[38;5;241m=\u001B[39mprev_state)\n",
      "File \u001B[1;32m~\\PycharmProjects\\dpf-baselining\\pydpf\\distributions\\base.py:120\u001B[0m, in \u001B[0;36mDistribution.sample\u001B[1;34m(self, *args, **kwargs)\u001B[0m\n\u001B[0;32m    119\u001B[0m \u001B[38;5;28;01mdef\u001B[39;00m \u001B[38;5;21msample\u001B[39m(\u001B[38;5;28mself\u001B[39m, \u001B[38;5;241m*\u001B[39margs, \u001B[38;5;241m*\u001B[39m\u001B[38;5;241m*\u001B[39mkwargs) \u001B[38;5;241m-\u001B[39m\u001B[38;5;241m>\u001B[39m Tensor:\n\u001B[1;32m--> 120\u001B[0m     output \u001B[38;5;241m=\u001B[39m \u001B[38;5;28mself\u001B[39m\u001B[38;5;241m.\u001B[39m_sample(\u001B[38;5;241m*\u001B[39margs, \u001B[38;5;241m*\u001B[39m\u001B[38;5;241m*\u001B[39mkwargs)\n\u001B[0;32m    121\u001B[0m     \u001B[38;5;28;01mif\u001B[39;00m \u001B[38;5;129;01mnot\u001B[39;00m \u001B[38;5;28mself\u001B[39m\u001B[38;5;241m.\u001B[39mtraining \u001B[38;5;129;01mor\u001B[39;00m \u001B[38;5;28mself\u001B[39m\u001B[38;5;241m.\u001B[39mgrad_est \u001B[38;5;241m==\u001B[39m \u001B[38;5;28mself\u001B[39m\u001B[38;5;241m.\u001B[39mGradientEstimator\u001B[38;5;241m.\u001B[39mnone \u001B[38;5;129;01mor\u001B[39;00m \u001B[38;5;129;01mnot\u001B[39;00m torch\u001B[38;5;241m.\u001B[39mis_grad_enabled():\n\u001B[0;32m    122\u001B[0m         \u001B[38;5;28;01mreturn\u001B[39;00m output\u001B[38;5;241m.\u001B[39mdetach()\n",
      "\u001B[1;31mKeyboardInterrupt\u001B[0m: "
     ]
    }
   ],
   "execution_count": 19
  }
 ],
 "metadata": {
  "kernelspec": {
   "display_name": "Python 3",
   "language": "python",
   "name": "python3"
  },
  "language_info": {
   "codemirror_mode": {
    "name": "ipython",
    "version": 2
   },
   "file_extension": ".py",
   "mimetype": "text/x-python",
   "name": "python",
   "nbconvert_exporter": "python",
   "pygments_lexer": "ipython2",
   "version": "2.7.6"
  }
 },
 "nbformat": 4,
 "nbformat_minor": 5
}

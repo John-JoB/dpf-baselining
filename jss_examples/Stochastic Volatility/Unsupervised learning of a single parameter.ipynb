{
 "cells": [
  {
   "cell_type": "code",
   "id": "initial_id",
   "metadata": {
    "collapsed": true,
    "ExecuteTime": {
     "end_time": "2025-05-21T15:50:36.946763Z",
     "start_time": "2025-05-21T15:50:33.145384Z"
    }
   },
   "source": [
    "import pydpf\n",
    "import numpy as np\n",
    "import torch\n",
    "import pathlib\n",
    "import model\n",
    "from tqdm import tqdm\n",
    "from time import time\n",
    "from training_loop import train\n",
    "import pandas as pd"
   ],
   "outputs": [],
   "execution_count": 1
  },
  {
   "metadata": {
    "ExecuteTime": {
     "end_time": "2025-05-21T15:50:36.973849Z",
     "start_time": "2025-05-21T15:50:36.946763Z"
    }
   },
   "cell_type": "code",
   "source": [
    "DPF_type = 'Optimal Transport'\n",
    "n_repeats = 10\n",
    "device = torch.device('cuda:0' if torch.cuda.is_available() else 'cpu')"
   ],
   "id": "4ccc64ac86d7b6ed",
   "outputs": [],
   "execution_count": 2
  },
  {
   "metadata": {
    "ExecuteTime": {
     "end_time": "2025-05-21T15:50:37.023113Z",
     "start_time": "2025-05-21T15:50:37.019294Z"
    }
   },
   "cell_type": "code",
   "source": [
    "def get_DPF(SSM):\n",
    "    if DPF_type == 'DPF':\n",
    "        return pydpf.DPF(SSM=SSM, resampling_generator=experiment_cuda_rng)\n",
    "    if DPF_type == 'Soft':\n",
    "        return pydpf.SoftDPF(SSM=SSM, resampling_generator=experiment_cuda_rng)\n",
    "    if DPF_type == 'Stop-Gradient':\n",
    "        return pydpf.StopGradientDPF(SSM=SSM, resampling_generator=experiment_cuda_rng)\n",
    "    if DPF_type == 'Marginal Stop-Gradient':\n",
    "        return pydpf.MarginalStopGradientDPF(SSM=SSM, resampling_generator=experiment_cuda_rng)\n",
    "    if DPF_type == 'Optimal Transport':\n",
    "        return pydpf.OptimalTransportDPF(SSM=SSM, regularisation=10., transport_gradient_clip=1.)\n",
    "    if DPF_type == 'Kernel':\n",
    "        kernel = pydpf.KernelMixture(pydpf.MultivariateGaussian(torch.zeros(1, device=device),torch.nn.Parameter(torch.eye(1, device=device)*0.1), generator=experiment_cuda_rng), gradient_estimator='reparameterisation', generator=experiment_cuda_rng)\n",
    "        return pydpf.KernelDPF(SSM=SSM, kernel=kernel)\n",
    "    raise ValueError('DPF_type should be one of the allowed options')"
   ],
   "id": "9cf2a81ff69115d0",
   "outputs": [],
   "execution_count": 3
  },
  {
   "metadata": {
    "ExecuteTime": {
     "end_time": "2025-05-21T15:54:27.038624Z",
     "start_time": "2025-05-21T15:50:37.028339Z"
    }
   },
   "cell_type": "code",
   "source": [
    "experiment_cuda_rng = torch.Generator(device).manual_seed(0)\n",
    "generation_rng = torch.Generator(device).manual_seed(0)\n",
    "aggregation_function_dict = {'ELBO': pydpf.LogLikelihoodFactors()}\n",
    "test_dataset = pydpf.StateSpaceDataset(data_path=pathlib.Path('.').parent.absolute().joinpath('test_trajectory.csv'), state_prefix='state', device='cuda')\n",
    "Gradients = []\n",
    "size = 0\n",
    "alpha_p = torch.nn.Parameter(torch.tensor([[0.93]], dtype = torch.float32, device=device))\n",
    "SSM = model.make_SSM(torch.tensor([[1.]], device=device), alpha_p, torch.tensor([0.5], device=device), device)\n",
    "DPF = get_DPF(SSM)\n",
    "forward_time = []\n",
    "backward_time = []\n",
    "state = test_dataset.state[:,0:1].expand((101, 100, 1)).contiguous()\n",
    "observation = test_dataset.observation[:,0:1].expand((101, 100, 1)).contiguous()\n",
    "for i in tqdm(range(20)):\n",
    "    DPF.update()\n",
    "    size += state.size(1)\n",
    "    start = time()\n",
    "    outputs = DPF(observation=observation, n_particles=100, ground_truth=state, aggregation_function=aggregation_function_dict, time_extent=100)\n",
    "    ls = torch.mean(outputs['ELBO'], dim=0)\n",
    "    loss = ls.mean()\n",
    "    forward_time.append((time() - start))\n",
    "    start = time()\n",
    "    loss.backward(retain_graph=True)\n",
    "    backward_time.append((time() - start))\n",
    "    alpha_p.grad = None\n",
    "    for i in range(len(ls)):\n",
    "        ls[i].backward(retain_graph=True)\n",
    "        Gradients.append(alpha_p.grad.item())\n",
    "        alpha_p.grad = None\n",
    "    loss.backward()"
   ],
   "id": "aa57f4668382c639",
   "outputs": [
    {
     "name": "stderr",
     "output_type": "stream",
     "text": [
      "100%|██████████| 20/20 [03:49<00:00, 11.49s/it]\n"
     ]
    }
   ],
   "execution_count": 4
  },
  {
   "metadata": {
    "ExecuteTime": {
     "end_time": "2025-05-21T16:54:55.038523Z",
     "start_time": "2025-05-21T15:54:27.072615Z"
    }
   },
   "cell_type": "code",
   "source": [
    "alphas = np.empty(n_repeats)\n",
    "data_path = pathlib.Path('.').parent.absolute().joinpath('data.csv')\n",
    "for n in range(n_repeats):\n",
    "    experiment_cuda_rng = torch.Generator(device).manual_seed(n*10)\n",
    "    experiment_cpu_rng = torch.Generator().manual_seed(n*10)\n",
    "    generation_rng = torch.Generator(device).manual_seed(n*10)\n",
    "    true_SSM = model.make_SSM(torch.tensor([[1.]], device=device), torch.tensor([[0.91]], device=device), torch.tensor([0.5], device=device), device, generation_rng)\n",
    "    pydpf.simulate_and_save(data_path, SSM=true_SSM, time_extent=1000, n_trajectories=500, batch_size=100, device=device, by_pass_ask=True)\n",
    "    alpha = torch.nn.Parameter(torch.rand((1,1), device=device, generator=experiment_cuda_rng), requires_grad=True)\n",
    "    SSM = model.make_SSM(torch.tensor([[1.]], device=device), alpha, torch.tensor([0.5], device=device), device, generation_rng)\n",
    "    dpf = get_DPF(SSM)\n",
    "    if DPF_type == 'Kernel':\n",
    "        opt = torch.optim.SGD([{'params':[alpha], 'lr':0.05}, {'params':dpf.resampler.mixture.parameters(), 'lr':0.01}])\n",
    "    else:\n",
    "        opt = torch.optim.SGD([{'params':[alpha], 'lr':0.05}])\n",
    "    opt_schedule = torch.optim.lr_scheduler.ExponentialLR(opt, 0.95)\n",
    "    dataset = pydpf.StateSpaceDataset(data_path, state_prefix='state', device=device)\n",
    "    _, ELBO = train(dpf, opt, dataset, 10, (100, 100, 100), (30, 100, 100), (0.5, 0.25, 0.25), 1., experiment_cpu_rng, target='ELBO', time_extent=100, lr_scheduler=opt_schedule)\n",
    "    print(alpha)\n",
    "    alphas[n] = alpha\n"
   ],
   "id": "f770de140baeca54",
   "outputs": [
    {
     "name": "stdout",
     "output_type": "stream",
     "text": [
      "Done                  \n",
      "\n",
      "epoch 1/10, train loss: 1.2539286589622498, validation MSE: 1.8500530242919921, validation ELBO: 115.39723510742188\n",
      "epoch 2/10, train loss: 1.0382283973693847, validation MSE: 1.5686058282852173, validation ELBO: 111.18718109130859\n",
      "epoch 3/10, train loss: 1.019157919883728, validation MSE: 1.5606566429138184, validation ELBO: 110.1022216796875\n",
      "epoch 4/10, train loss: 1.0220255827903748, validation MSE: 1.5390944719314574, validation ELBO: 109.48365173339843\n",
      "epoch 5/10, train loss: 1.0221030163764953, validation MSE: 1.5481766700744628, validation ELBO: 109.30546264648437\n",
      "epoch 6/10, train loss: 1.0181823778152466, validation MSE: 1.5457442283630372, validation ELBO: 110.65148315429687\n",
      "epoch 7/10, train loss: 1.0196914768218994, validation MSE: 1.5513216495513915, validation ELBO: 109.69273681640625\n",
      "epoch 8/10, train loss: 1.0222209811210632, validation MSE: 1.593090581893921, validation ELBO: 110.94208068847657\n",
      "epoch 9/10, train loss: 1.026155698299408, validation MSE: 1.5509806871414185, validation ELBO: 110.13250732421875\n",
      "epoch 10/10, train loss: 1.022189688682556, validation MSE: 1.5481401443481446, validation ELBO: 109.5351806640625\n",
      "\n",
      "test MSE: 1.64494149684906, test ELBO: 118.80595397949219\n",
      "Parameter containing:\n",
      "tensor([[0.9476]], device='cuda:0', requires_grad=True)\n",
      "Done                  \n",
      "\n",
      "epoch 1/10, train loss: 1.125297613143921, validation MSE: 1.4878239154815673, validation ELBO: 105.00501403808593\n",
      "epoch 2/10, train loss: 1.126050305366516, validation MSE: 1.516949725151062, validation ELBO: 105.14949645996094\n",
      "epoch 3/10, train loss: 1.1268408346176146, validation MSE: 1.5137972116470337, validation ELBO: 105.35625\n",
      "epoch 4/10, train loss: 1.1256664776802063, validation MSE: 1.519582462310791, validation ELBO: 105.16624298095704\n",
      "epoch 5/10, train loss: 1.1253234100341798, validation MSE: 1.5118636608123779, validation ELBO: 105.34891815185547\n",
      "epoch 6/10, train loss: 1.125497088432312, validation MSE: 1.512930965423584, validation ELBO: 105.54249114990235\n",
      "epoch 7/10, train loss: 1.1249918246269226, validation MSE: 1.500934863090515, validation ELBO: 105.15992431640625\n",
      "epoch 8/10, train loss: 1.124189577102661, validation MSE: 1.4953625202178955, validation ELBO: 104.96354675292969\n",
      "epoch 9/10, train loss: 1.1233059883117675, validation MSE: 1.503399920463562, validation ELBO: 105.08138580322266\n",
      "epoch 10/10, train loss: 1.1262705850601196, validation MSE: 1.5010210752487183, validation ELBO: 105.32630767822266\n",
      "\n",
      "test MSE: 1.550693941116333, test ELBO: 99.53056030273437\n",
      "Parameter containing:\n",
      "tensor([[0.9396]], device='cuda:0', requires_grad=True)\n",
      "Done                  \n",
      "\n",
      "epoch 1/10, train loss: 1.1288586473464965, validation MSE: 1.5802002191543578, validation ELBO: 104.2982162475586\n",
      "epoch 2/10, train loss: 1.1013484859466554, validation MSE: 1.5905413627624512, validation ELBO: 104.58472595214843\n",
      "epoch 3/10, train loss: 1.1012275218963623, validation MSE: 1.5882533311843872, validation ELBO: 104.752734375\n",
      "epoch 4/10, train loss: 1.1028802108764648, validation MSE: 1.5909569263458252, validation ELBO: 104.94013671875\n",
      "epoch 5/10, train loss: 1.1034325957298279, validation MSE: 1.5960204362869264, validation ELBO: 105.96448669433593\n",
      "epoch 6/10, train loss: 1.1069524669647217, validation MSE: 1.572388219833374, validation ELBO: 104.62921447753907\n",
      "epoch 7/10, train loss: 1.105797905921936, validation MSE: 1.5680418491363526, validation ELBO: 103.83539123535157\n",
      "epoch 8/10, train loss: 1.1028964924812317, validation MSE: 1.584090256690979, validation ELBO: 105.34969177246094\n",
      "epoch 9/10, train loss: 1.100780119895935, validation MSE: 1.5938817501068114, validation ELBO: 105.06625366210938\n",
      "epoch 10/10, train loss: 1.105731143951416, validation MSE: 1.5997710943222045, validation ELBO: 105.28882141113282\n",
      "\n",
      "test MSE: 1.595604133605957, test ELBO: 109.2518310546875\n",
      "Parameter containing:\n",
      "tensor([[0.9336]], device='cuda:0', requires_grad=True)\n",
      "Done                  \n",
      "\n",
      "epoch 1/10, train loss: 1.4242339849472045, validation MSE: 2.4244423389434813, validation ELBO: 122.05640716552735\n",
      "epoch 2/10, train loss: 1.1339785218238831, validation MSE: 1.5860556602478026, validation ELBO: 104.32342224121093\n",
      "epoch 3/10, train loss: 1.0637873578071595, validation MSE: 1.5850212574005127, validation ELBO: 104.86946411132813\n",
      "epoch 4/10, train loss: 1.0618944072723389, validation MSE: 1.5664531230926513, validation ELBO: 104.46491088867188\n",
      "epoch 5/10, train loss: 1.0669628739356996, validation MSE: 1.5896887063980103, validation ELBO: 104.62101287841797\n",
      "epoch 6/10, train loss: 1.062685797214508, validation MSE: 1.5805115461349488, validation ELBO: 104.34679565429687\n",
      "epoch 7/10, train loss: 1.0632265543937682, validation MSE: 1.5980580568313598, validation ELBO: 104.61500854492188\n",
      "epoch 8/10, train loss: 1.0630207967758178, validation MSE: 1.5828663110733032, validation ELBO: 104.39306640625\n",
      "epoch 9/10, train loss: 1.0662678456306458, validation MSE: 1.580843997001648, validation ELBO: 104.12979888916016\n",
      "epoch 10/10, train loss: 1.0660542941093445, validation MSE: 1.576595401763916, validation ELBO: 104.36061248779296\n",
      "\n",
      "test MSE: 1.5318663835525512, test ELBO: 106.5383316040039\n",
      "Parameter containing:\n",
      "tensor([[0.9308]], device='cuda:0', requires_grad=True)\n",
      "Done                  \n",
      "\n",
      "epoch 1/10, train loss: 1.0578994059562683, validation MSE: 1.5545598030090333, validation ELBO: 102.6668701171875\n",
      "epoch 2/10, train loss: 1.061352880001068, validation MSE: 1.5499263048171996, validation ELBO: 102.8190704345703\n",
      "epoch 3/10, train loss: 1.0559364414215089, validation MSE: 1.5695894956588745, validation ELBO: 102.90024261474609\n",
      "epoch 4/10, train loss: 1.0582624387741089, validation MSE: 1.5596106052398682, validation ELBO: 103.23108520507813\n",
      "epoch 5/10, train loss: 1.0566465663909912, validation MSE: 1.5618579864501954, validation ELBO: 103.23704223632812\n",
      "epoch 6/10, train loss: 1.0571526765823365, validation MSE: 1.5506651639938354, validation ELBO: 102.90520935058593\n",
      "epoch 7/10, train loss: 1.0603892040252685, validation MSE: 1.5698548793792724, validation ELBO: 103.31846466064454\n",
      "epoch 8/10, train loss: 1.0580574369430542, validation MSE: 1.571252965927124, validation ELBO: 103.28194885253906\n",
      "epoch 9/10, train loss: 1.0544441795349122, validation MSE: 1.5799612760543824, validation ELBO: 103.18750610351563\n",
      "epoch 10/10, train loss: 1.0578925538063049, validation MSE: 1.5591535329818726, validation ELBO: 103.00264587402344\n",
      "\n",
      "test MSE: 1.5536854982376098, test ELBO: 103.12849426269531\n",
      "Parameter containing:\n",
      "tensor([[0.9316]], device='cuda:0', requires_grad=True)\n",
      "Done                  \n",
      "\n",
      "epoch 1/10, train loss: 1.4055852365493775, validation MSE: 1.826247239112854, validation ELBO: 109.40274353027344\n",
      "epoch 2/10, train loss: 1.1156978440284728, validation MSE: 1.612586545944214, validation ELBO: 105.49276275634766\n",
      "epoch 3/10, train loss: 1.1087200498580934, validation MSE: 1.5691531896591187, validation ELBO: 104.89178771972657\n",
      "epoch 4/10, train loss: 1.1114361047744752, validation MSE: 1.5721710443496704, validation ELBO: 105.38246612548828\n",
      "epoch 5/10, train loss: 1.1061400771141052, validation MSE: 1.557377529144287, validation ELBO: 105.1353973388672\n",
      "epoch 6/10, train loss: 1.1056199073791504, validation MSE: 1.5678606510162354, validation ELBO: 105.22394409179688\n",
      "epoch 7/10, train loss: 1.1103156661987306, validation MSE: 1.5632091522216798, validation ELBO: 105.2056381225586\n",
      "epoch 8/10, train loss: 1.1097229647636413, validation MSE: 1.5475089073181152, validation ELBO: 104.6216812133789\n",
      "epoch 9/10, train loss: 1.1061078023910522, validation MSE: 1.5556054353713988, validation ELBO: 105.34049530029297\n",
      "epoch 10/10, train loss: 1.1056032466888428, validation MSE: 1.5764551877975463, validation ELBO: 104.91816711425781\n",
      "\n",
      "test MSE: 1.5741189241409301, test ELBO: 107.54542846679688\n",
      "Parameter containing:\n",
      "tensor([[0.9300]], device='cuda:0', requires_grad=True)\n",
      "Done                  \n",
      "\n",
      "epoch 1/10, train loss: 1.3189203357696533, validation MSE: 2.1700621604919434, validation ELBO: 112.893994140625\n",
      "epoch 2/10, train loss: 1.1012973952293397, validation MSE: 1.5642442226409912, validation ELBO: 101.07840270996094\n",
      "epoch 3/10, train loss: 1.0552577662467957, validation MSE: 1.5744361639022828, validation ELBO: 101.3479995727539\n",
      "epoch 4/10, train loss: 1.0590809535980226, validation MSE: 1.5747375965118409, validation ELBO: 101.15032806396485\n",
      "epoch 5/10, train loss: 1.0597912788391113, validation MSE: 1.5618850469589234, validation ELBO: 101.39317474365234\n",
      "epoch 6/10, train loss: 1.0574058866500855, validation MSE: 1.5608290195465089, validation ELBO: 101.51113739013672\n",
      "epoch 7/10, train loss: 1.0576628971099853, validation MSE: 1.5738629817962646, validation ELBO: 101.51483001708985\n",
      "epoch 8/10, train loss: 1.0589598178863526, validation MSE: 1.564955186843872, validation ELBO: 101.23330993652344\n",
      "epoch 9/10, train loss: 1.0565119981765747, validation MSE: 1.5754451751708984, validation ELBO: 101.32864074707031\n",
      "epoch 10/10, train loss: 1.0573092699050903, validation MSE: 1.5561187267303467, validation ELBO: 101.01523132324219\n",
      "\n",
      "test MSE: 1.5402957201004028, test ELBO: 106.1051025390625\n",
      "Parameter containing:\n",
      "tensor([[0.9324]], device='cuda:0', requires_grad=True)\n",
      "Done                  \n",
      "\n",
      "epoch 1/10, train loss: 1.2048160409927369, validation MSE: 1.5690777778625489, validation ELBO: 105.97508087158204\n",
      "epoch 2/10, train loss: 1.0545446872711182, validation MSE: 1.5356819391250611, validation ELBO: 106.50465393066406\n",
      "epoch 3/10, train loss: 1.0537395405769348, validation MSE: 1.543209719657898, validation ELBO: 106.40445709228516\n",
      "epoch 4/10, train loss: 1.0535045647621155, validation MSE: 1.5520728349685669, validation ELBO: 106.66733856201172\n",
      "epoch 5/10, train loss: 1.0518812799453736, validation MSE: 1.5324480056762695, validation ELBO: 106.59337463378907\n",
      "epoch 6/10, train loss: 1.0542701125144958, validation MSE: 1.5436191082000732, validation ELBO: 105.91524200439453\n",
      "epoch 7/10, train loss: 1.0565051651000976, validation MSE: 1.5336752891540528, validation ELBO: 105.71017150878906\n",
      "epoch 8/10, train loss: 1.0518465447425842, validation MSE: 1.5323085069656373, validation ELBO: 105.83557891845703\n",
      "epoch 9/10, train loss: 1.0536864233016967, validation MSE: 1.543701958656311, validation ELBO: 105.97621154785156\n",
      "epoch 10/10, train loss: 1.0519711422920226, validation MSE: 1.5423609256744384, validation ELBO: 107.51890563964844\n",
      "\n",
      "test MSE: 1.5032978773117065, test ELBO: 112.21553802490234\n",
      "Parameter containing:\n",
      "tensor([[0.9358]], device='cuda:0', requires_grad=True)\n",
      "Done                  \n",
      "\n",
      "epoch 1/10, train loss: 1.0368866324424744, validation MSE: 1.5031744956970214, validation ELBO: 105.8165786743164\n",
      "epoch 2/10, train loss: 1.0361178016662598, validation MSE: 1.531387495994568, validation ELBO: 106.26778106689453\n",
      "epoch 3/10, train loss: 1.0394984579086304, validation MSE: 1.515309500694275, validation ELBO: 106.24554138183593\n",
      "epoch 4/10, train loss: 1.0409789848327637, validation MSE: 1.5380146026611328, validation ELBO: 106.64732818603515\n",
      "epoch 5/10, train loss: 1.037936682701111, validation MSE: 1.5085094213485717, validation ELBO: 106.42752685546876\n",
      "epoch 6/10, train loss: 1.0412172269821167, validation MSE: 1.5087467908859253, validation ELBO: 106.05156860351562\n",
      "epoch 7/10, train loss: 1.0393516254425048, validation MSE: 1.5011075735092163, validation ELBO: 106.29364624023438\n",
      "epoch 8/10, train loss: 1.0408480525016786, validation MSE: 1.5013970851898193, validation ELBO: 106.13482360839843\n",
      "epoch 9/10, train loss: 1.0378536224365233, validation MSE: 1.512359046936035, validation ELBO: 106.27225952148437\n",
      "epoch 10/10, train loss: 1.037968816757202, validation MSE: 1.5049647092819214, validation ELBO: 105.92044677734376\n",
      "\n",
      "test MSE: 1.6083113193511962, test ELBO: 106.05264587402344\n",
      "Parameter containing:\n",
      "tensor([[0.9406]], device='cuda:0', requires_grad=True)\n",
      "Done                  \n",
      "\n",
      "epoch 1/10, train loss: 1.1525024008750915, validation MSE: 1.6006353855133058, validation ELBO: 110.7884765625\n",
      "epoch 2/10, train loss: 1.0980314326286316, validation MSE: 1.5916935443878173, validation ELBO: 110.35345764160157\n",
      "epoch 3/10, train loss: 1.0957859134674073, validation MSE: 1.5800538778305053, validation ELBO: 110.53252716064453\n",
      "epoch 4/10, train loss: 1.0959205913543701, validation MSE: 1.60007586479187, validation ELBO: 110.78603973388672\n",
      "epoch 5/10, train loss: 1.0966026759147645, validation MSE: 1.614906096458435, validation ELBO: 110.91217346191407\n",
      "epoch 6/10, train loss: 1.0948786306381226, validation MSE: 1.5923898458480834, validation ELBO: 110.46300354003907\n",
      "epoch 7/10, train loss: 1.0932628154754638, validation MSE: 1.5980435609817505, validation ELBO: 110.49370880126953\n",
      "epoch 8/10, train loss: 1.097516119480133, validation MSE: 1.602046251296997, validation ELBO: 110.98958282470703\n",
      "epoch 9/10, train loss: 1.0981048512458802, validation MSE: 1.598297643661499, validation ELBO: 110.62638397216797\n",
      "epoch 10/10, train loss: 1.095536289215088, validation MSE: 1.6022989273071289, validation ELBO: 110.58233337402343\n",
      "\n",
      "test MSE: 1.5693467378616333, test ELBO: 110.19402160644532\n",
      "Parameter containing:\n",
      "tensor([[0.9306]], device='cuda:0', requires_grad=True)\n"
     ]
    }
   ],
   "execution_count": 5
  },
  {
   "metadata": {
    "ExecuteTime": {
     "end_time": "2025-05-21T16:54:55.128988Z",
     "start_time": "2025-05-21T16:54:55.121389Z"
    }
   },
   "cell_type": "code",
   "source": [
    "result_path = pathlib.Path('.').parent.absolute().joinpath('single_parameter_results.csv')\n",
    "results = pd.read_csv(result_path, index_col=0)\n",
    "row = np.array([sum(forward_time[1:-1])/(len(forward_time)-2), sum(backward_time[1:-1])/(len(backward_time)-2), np.sqrt(np.var(Gradients)), np.mean(np.abs(alphas - 0.91))])\n",
    "results.loc[DPF_type] = row\n",
    "print(results)\n",
    "results.to_csv(result_path)"
   ],
   "id": "62b835a506c49f6a",
   "outputs": [
    {
     "name": "stdout",
     "output_type": "stream",
     "text": [
      "                        Forward Time (s)  Backward Time (s)  \\\n",
      "method                                                        \n",
      "DPF                             0.186978           0.053568   \n",
      "Soft                            0.236972           0.112147   \n",
      "Stop-Gradient                   0.175371           0.078364   \n",
      "Marginal Stop-Gradient          0.131526           0.049114   \n",
      "Optimal Transport               1.089317           0.107106   \n",
      "Kernel                          0.114504           0.085748   \n",
      "\n",
      "                        Gradient standard deviation  alpha error  \n",
      "method                                                            \n",
      "DPF                                        0.034826     0.003685  \n",
      "Soft                                       0.375484     0.006728  \n",
      "Stop-Gradient                              1.145910     0.005106  \n",
      "Marginal Stop-Gradient                     0.477815     0.002993  \n",
      "Optimal Transport                          0.116350     0.025273  \n",
      "Kernel                                     0.779224     0.249590  \n"
     ]
    }
   ],
   "execution_count": 6
  }
 ],
 "metadata": {
  "kernelspec": {
   "display_name": "Python 3",
   "language": "python",
   "name": "python3"
  },
  "language_info": {
   "codemirror_mode": {
    "name": "ipython",
    "version": 2
   },
   "file_extension": ".py",
   "mimetype": "text/x-python",
   "name": "python",
   "nbconvert_exporter": "python",
   "pygments_lexer": "ipython2",
   "version": "2.7.6"
  }
 },
 "nbformat": 4,
 "nbformat_minor": 5
}

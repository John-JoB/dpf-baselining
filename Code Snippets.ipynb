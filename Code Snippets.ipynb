{
 "cells": [
  {
   "cell_type": "code",
   "id": "initial_id",
   "metadata": {
    "collapsed": true,
    "ExecuteTime": {
     "end_time": "2025-03-31T15:21:56.624612Z",
     "start_time": "2025-03-31T15:21:56.618581Z"
    }
   },
   "source": [
    "import pydpf\n",
    "import torch\n",
    "from math import log,pi\n",
    "\n",
    "class GaussianDensity(pydpf.Module):\n",
    "    \n",
    "    log_2pi = log(2*pi) \n",
    "    \n",
    "    def __init__(self, initial_mean, initial_variance):\n",
    "        super().__init__()\n",
    "        self.mean = torch.nn.parameter.Parameter(torch.tensor(initial_mean))\n",
    "        self.variance_data = torch.nn.parameter.Parameter(torch.tensor(initial_variance))\n",
    "        print(self.variance)\n",
    "        \n",
    "    @pydpf.constrained_parameter\n",
    "    def variance(self):\n",
    "        #Return references to the parameter we want to modify in place and to a tensor containing the new value \n",
    "        return self.variance_data, torch.abs(self.variance_data)\n",
    "    \n",
    "    @pydpf.cached_property\n",
    "    def inverse_variance(self):\n",
    "        return 1/self.variance\n",
    "    \n",
    "    @pydpf.cached_property\n",
    "    def log_variance(self):\n",
    "        return torch.log(self.variance)\n",
    "        \n",
    "    def log_density(self, input):\n",
    "        sqd_residual = (input - self.mean)**2\n",
    "        return -(sqd_residual*self.inverse_variance + self.log_2pi + self.log_variance)/2\n",
    "    \n",
    "G = GaussianDensity(0., 5.)\n",
    "print(torch.exp(G.log_density(2.)))"
   ],
   "outputs": [
    {
     "name": "stdout",
     "output_type": "stream",
     "text": [
      "Parameter containing:\n",
      "tensor(5., requires_grad=True)\n",
      "tensor(0.1196, grad_fn=<ExpBackward0>)\n"
     ]
    }
   ],
   "execution_count": 10
  }
 ],
 "metadata": {
  "kernelspec": {
   "display_name": "Python 3",
   "language": "python",
   "name": "python3"
  },
  "language_info": {
   "codemirror_mode": {
    "name": "ipython",
    "version": 2
   },
   "file_extension": ".py",
   "mimetype": "text/x-python",
   "name": "python",
   "nbconvert_exporter": "python",
   "pygments_lexer": "ipython2",
   "version": "2.7.6"
  }
 },
 "nbformat": 4,
 "nbformat_minor": 5
}

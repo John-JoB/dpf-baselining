{
 "cells": [
  {
   "cell_type": "code",
   "id": "initial_id",
   "metadata": {
    "collapsed": true,
    "ExecuteTime": {
     "end_time": "2025-01-22T14:33:56.343952Z",
     "start_time": "2025-01-22T14:33:54.989926Z"
    }
   },
   "source": [
    "import pydpf\n",
    "import torch\n",
    "from torch import Tensor\n",
    "from typing import Tuple, Union\n",
    "from pydpf.datautils import simulate_and_save\n",
    "\n",
    "from pydpf.distributions.Gaussian import MultivariateGaussian, LinearGaussian\n",
    "from pathlib import Path\n",
    "import shutil\n",
    "import os\n",
    "import numpy as np\n",
    "\n",
    "device = torch.device('cuda' if torch.cuda.is_available() else 'cpu')"
   ],
   "outputs": [],
   "execution_count": 1
  },
  {
   "metadata": {
    "ExecuteTime": {
     "end_time": "2025-01-22T14:33:56.374260Z",
     "start_time": "2025-01-22T14:33:56.367743Z"
    }
   },
   "cell_type": "code",
   "source": [
    "gen_num = 9\n",
    "def new_gen():\n",
    "    global gen_num\n",
    "    global device\n",
    "    gen_num += 1\n",
    "    return torch.Generator(device=device).manual_seed(gen_num)\n",
    "\n",
    "def get_spectral_radius(M):\n",
    "    eigvals = torch.linalg.eigvals(M)\n",
    "    return torch.max(torch.abs(eigvals))\n",
    "\n",
    "def make_random(size, range, sparsity, device, generator):\n",
    "    return torch.where(torch.rand(size, device=device, generator=generator) < sparsity, torch.rand(size, device=device, generator=generator) * (range[1] - range[0]) + range[0], 0) \n",
    "\n",
    "def make_random_matrix(*, data:Tensor=None, device:torch.device=None, force_diagonal:bool=False, size:Union[Tuple[int,int], int]=None, range:Tuple[float,float]=(0.,1.), diag_range:Tuple[float,float]=(0.,1.), off_diag_range:Tuple[float,float]=(0., 1.), max_radius:float=None, generator:torch.Generator=None, positive_definite:bool=False, requires_grad:bool = True, sparsity:float=1.):\n",
    "    if generator is None:\n",
    "        generator = torch.Generator(device=device)\n",
    "    if not data is None:\n",
    "        return torch.nn.Parameter(data, requires_grad)\n",
    "    if isinstance(size, int):\n",
    "        vec = make_random(size, range, sparsity, device, generator)\n",
    "        return torch.nn.Parameter(vec, requires_grad)\n",
    "    if size[0]==size[1]:\n",
    "        if positive_definite and diag_range[0]<0:\n",
    "            raise ValueError(\"Diagonal range must be positive for positive definite matrices\")\n",
    "        \n",
    "        diag = make_random(size[0], diag_range, sparsity, device, generator)\n",
    "        matrix = torch.diag(diag)\n",
    "        if not force_diagonal:\n",
    "            off_diag = make_random(size, off_diag_range, sparsity, device, generator) * (1-torch.eye(size[0], device=device))\n",
    "            matrix += off_diag\n",
    "            if positive_definite:\n",
    "                matrix = matrix.T @ matrix\n",
    "        if max_radius is not None:\n",
    "            radius = get_spectral_radius(matrix)\n",
    "            if radius > max_radius:\n",
    "                raise ValueError(f'Spectral radius {radius} exceeds maximum {max_radius}, consider decreasing the range or trying a different seed')\n",
    "        return torch.nn.Parameter(matrix, requires_grad)\n",
    "            \n",
    "    matrix = make_random(size, range, sparsity, device, generator)\n",
    "    return torch.nn.Parameter(matrix, requires_grad)\n",
    "        "
   ],
   "id": "5370e4b9bb706529",
   "outputs": [],
   "execution_count": 2
  },
  {
   "metadata": {
    "ExecuteTime": {
     "end_time": "2025-01-22T14:30:36.853122Z",
     "start_time": "2025-01-22T14:30:36.849155Z"
    }
   },
   "cell_type": "code",
   "source": [
    "series_name = 'test'\n",
    "\n",
    "trajectory_length = 100\n",
    "number_of_trajectories = 1000\n",
    "\n",
    "state_dimension = 5\n",
    "observation_dimension = 5\n",
    "\n",
    "max_prior_variance = 1.\n",
    "max_prior_covariance = 0.3\n",
    "\n",
    "max_dynamic_matrix_diag = 0.7\n",
    "max_dynamic_matrix_off_diag = 0.8\n",
    "max_dynamic_bias = 0.5\n",
    "dynamic_sparsity = 0.8\n",
    "\n",
    "max_observation_matrix_diag = 2.\n",
    "max_observation_matrix_off_diag = 1.\n",
    "max_observation_bias = 1.\n",
    "observation_sparsity = 0.6\n",
    "\n",
    "max_dynamic_variance = 0.3\n",
    "max_dynamic_covariance = 0.1\n",
    "\n",
    "max_observation_variance = 0.4\n",
    "max_observation_covariance = 0.2\n",
    "\n",
    "generator = new_gen()"
   ],
   "id": "3809747b28516376",
   "outputs": [],
   "execution_count": 21
  },
  {
   "metadata": {
    "ExecuteTime": {
     "end_time": "2025-01-22T14:30:36.970764Z",
     "start_time": "2025-01-22T14:30:36.923948Z"
    }
   },
   "cell_type": "code",
   "source": [
    "data_dir = Path('./test/')\n",
    "if data_dir.is_dir():\n",
    "    shutil.rmtree(data_dir)\n",
    "os.mkdir(data_dir)\n",
    "\n",
    "prior_covariance = make_random_matrix(size = (state_dimension, state_dimension), diag_range=(0, max_prior_variance), off_diag_range=(-max_prior_covariance, max_prior_covariance), generator=generator, device=device, requires_grad=False, positive_definite=True)\n",
    "prior_covariance_np = prior_covariance.cpu().numpy()\n",
    "np.savetxt(data_dir / 'prior_covariance.csv', prior_covariance_np, delimiter=',')\n",
    "\n",
    "dynamic_matrix = make_random_matrix(size=(state_dimension,state_dimension), diag_range=(-max_dynamic_matrix_diag, max_dynamic_matrix_diag), off_diag_range=(-max_dynamic_matrix_off_diag, max_dynamic_matrix_off_diag), generator=generator, max_radius=1, device=device, sparsity=dynamic_sparsity, requires_grad=False)\n",
    "dynamic_matrix_np = dynamic_matrix.cpu().numpy()\n",
    "np.savetxt(data_dir / 'dynamic_matrix.csv', dynamic_matrix_np, delimiter=',')\n",
    "\n",
    "dynamic_bias = make_random_matrix(size=state_dimension, range=(-max_dynamic_bias, max_dynamic_bias), generator=generator, device=device, requires_grad=False)\n",
    "dynamic_bias_np = dynamic_bias.cpu().numpy()\n",
    "np.savetxt(data_dir / 'dynamic_bias.csv', dynamic_bias_np, delimiter=',')\n",
    "\n",
    "dynamic_covariance = make_random_matrix(size = (state_dimension, state_dimension), diag_range=(0, max_dynamic_variance), off_diag_range=(-max_dynamic_covariance, max_dynamic_covariance), generator=generator, device=device, requires_grad=False, positive_definite=True)\n",
    "dynamic_covariance_np = dynamic_covariance.cpu().numpy()\n",
    "np.savetxt(data_dir / 'dynamic_covariance.csv', dynamic_covariance_np, delimiter=',')\n",
    "\n",
    "if state_dimension==observation_dimension:\n",
    "    observation_matrix = make_random_matrix(size=(observation_dimension,state_dimension), diag_range=(-max_observation_matrix_diag, max_observation_matrix_diag), off_diag_range=(-max_observation_matrix_off_diag, max_observation_matrix_off_diag), generator=generator, device=device, sparsity=observation_sparsity, requires_grad=False)\n",
    "else:\n",
    "    observation_matrix = make_random_matrix(size=(observation_dimension,state_dimension), range=(-max_observation_matrix_off_diag, max_observation_matrix_off_diag), generator=generator, device=device, sparsity=observation_sparsity, requires_grad=False)\n",
    "observation_matrix_np = observation_matrix.cpu().numpy()\n",
    "np.savetxt(data_dir / 'observation_matrix.csv', observation_matrix_np, delimiter=',')\n",
    "\n",
    "observation_bias = make_random_matrix(size=state_dimension, range=(-max_observation_bias, max_observation_bias), generator=generator, device=device, requires_grad=False)\n",
    "observation_bias_np = observation_bias.cpu().numpy()\n",
    "np.savetxt(data_dir / 'observation_bias.csv', observation_bias_np, delimiter=',')\n",
    "\n",
    "observation_covariance = make_random_matrix(size = (observation_dimension, observation_dimension), diag_range=(0, max_dynamic_variance), off_diag_range=(-max_observation_covariance, max_observation_covariance), generator=generator, device=device, requires_grad=False, positive_definite=True)\n",
    "observation_covariance_np = observation_covariance.cpu().numpy()\n",
    "np.savetxt(data_dir / 'observation_covariance.csv', observation_covariance_np, delimiter=',')"
   ],
   "id": "febef39a6d650142",
   "outputs": [],
   "execution_count": 22
  },
  {
   "metadata": {
    "ExecuteTime": {
     "end_time": "2025-01-22T14:30:37.062473Z",
     "start_time": "2025-01-22T14:30:37.053206Z"
    }
   },
   "cell_type": "code",
   "source": [
    "prior_dist = MultivariateGaussian(mean = torch.zeros(state_dimension, device = device), cholesky_covariance=torch.linalg.cholesky(prior_covariance), generator=new_gen())\n",
    "dynamic_dist = LinearGaussian(weight = dynamic_matrix, bias = dynamic_bias, cholesky_covariance=torch.linalg.cholesky(dynamic_covariance), generator=new_gen(), constrain_spectral_radius=0.99)\n",
    "observation_dist = LinearGaussian(weight = observation_matrix, bias = observation_bias, cholesky_covariance=torch.linalg.cholesky(observation_covariance), generator=new_gen())\n",
    "SSM = pydpf.FilteringModel(dynamic_model=dynamic_dist, observation_model=observation_dist, prior_model=prior_dist)"
   ],
   "id": "9aeb07d5cd6115a0",
   "outputs": [],
   "execution_count": 23
  },
  {
   "metadata": {
    "ExecuteTime": {
     "end_time": "2025-01-22T14:30:38.133181Z",
     "start_time": "2025-01-22T14:30:37.170148Z"
    }
   },
   "cell_type": "code",
   "source": "simulate_and_save(data_dir / 'data.csv', SSM=SSM, time_extent=trajectory_length, n_trajectories=number_of_trajectories, batch_size=100, device=device, n_processes=-1)",
   "id": "89d64361942a0dbd",
   "outputs": [
    {
     "name": "stdout",
     "output_type": "stream",
     "text": [
      "Done                  \n",
      "\n"
     ]
    }
   ],
   "execution_count": 24
  }
 ],
 "metadata": {
  "kernelspec": {
   "display_name": "Python 3",
   "language": "python",
   "name": "python3"
  },
  "language_info": {
   "codemirror_mode": {
    "name": "ipython",
    "version": 2
   },
   "file_extension": ".py",
   "mimetype": "text/x-python",
   "name": "python",
   "nbconvert_exporter": "python",
   "pygments_lexer": "ipython2",
   "version": "2.7.6"
  }
 },
 "nbformat": 4,
 "nbformat_minor": 5
}
